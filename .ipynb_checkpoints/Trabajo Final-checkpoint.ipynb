{
 "cells": [
  {
   "cell_type": "markdown",
   "metadata": {},
   "source": [
    "</center><img src=\"https://www3.um.edu.uy/logoum.jpg\" width=300></center>\n",
    "<h1 align=\"center\">Introducción a la Ciencia de Datos</h1>\n",
    "<h2 align=\"center\"> <font color='gray'>Trabajo Final</font></h2>"
   ]
  },
  {
   "cell_type": "code",
   "execution_count": 1,
   "metadata": {},
   "outputs": [],
   "source": [
    "import datetime\n",
    "import itertools\n",
    "import math\n",
    "import matplotlib.pyplot as plt\n",
    "import numpy as np\n",
    "import pandas as pd\n",
    "import seaborn as sns"
   ]
  },
  {
   "cell_type": "code",
   "execution_count": 37,
   "metadata": {},
   "outputs": [],
   "source": [
    "data = pd.read_csv('data.csv')\n",
    "data.head(10)\n",
    "\n",
    "clean_data = data"
   ]
  },
  {
   "cell_type": "markdown",
   "metadata": {},
   "source": [
    "Serrana:\n",
    "age: edad\n",
    "housing: ¿tiene préstamo para vivienda? -> binaria, faltantes (?) - evaluar correlacion con otras columnas (trabajo, edad) \n",
    "duration: duración último contacto, en segundos -> dividir en categorias (data binning: equal width o frequency)"
   ]
  },
  {
   "cell_type": "markdown",
   "metadata": {},
   "source": [
    "## Age"
   ]
  },
  {
   "cell_type": "markdown",
   "metadata": {},
   "source": [
    "#### Outliers"
   ]
  },
  {
   "cell_type": "code",
   "execution_count": 161,
   "metadata": {},
   "outputs": [
    {
     "name": "stdout",
     "output_type": "stream",
     "text": [
      "The max (98) and min (17) ages are within normal ranges\n"
     ]
    }
   ],
   "source": [
    "max = data['age'].max()\n",
    "min = data['age'].min()\n",
    "print(f'The max ({max}) and min ({min}) ages are within normal ranges')"
   ]
  },
  {
   "cell_type": "markdown",
   "metadata": {},
   "source": [
    "#### Age distribution"
   ]
  },
  {
   "cell_type": "code",
   "execution_count": 90,
   "metadata": {
    "collapsed": true
   },
   "outputs": [
    {
     "data": {
      "image/png": "[encoded data removed]",
      "text/plain": [
       "<Figure size 1080x576 with 1 Axes>"
      ]
     },
     "metadata": {},
     "output_type": "display_data"
    }
   ],
   "source": [
    "ages = data['age']\n",
    "range = [0, 10, 20, 30, 40, 50, 60, 70, 80, 90, 100]\n",
    "plt.figure(figsize=(15,8))\n",
    "sns.set()\n",
    "plt.hist(ages, bins=range)\n",
    "plt.title(label=\"Age distribution\", fontsize=25)\n",
    "plt.xticks(range)\n",
    "plt.xlabel('Ages', fontsize=15)\n",
    "plt.ylabel('Amount of people', fontsize=15)\n",
    "plt.show()"
   ]
  },
  {
   "cell_type": "markdown",
   "metadata": {},
   "source": [
    "## Job"
   ]
  },
  {
   "cell_type": "markdown",
   "metadata": {},
   "source": [
    "Categorica nominal \n",
    "(cuantas categorias hay?, una col por categoria + top k)"
   ]
  },
  {
   "cell_type": "code",
   "execution_count": 15,
   "metadata": {},
   "outputs": [
    {
     "name": "stdout",
     "output_type": "stream",
     "text": [
      "admin.           8371\n",
      "blue-collar      7383\n",
      "technician       5418\n",
      "services         3173\n",
      "management       2328\n",
      "retired          1358\n",
      "entrepreneur     1156\n",
      "self-employed    1148\n",
      "housemaid         858\n",
      "unemployed        813\n",
      "student           698\n",
      "unknown           246\n",
      "Name: job, dtype: int64\n",
      "amount:  12\n"
     ]
    }
   ],
   "source": [
    "count = data['job'].value_counts()\n",
    "print(count)\n",
    "categories = data['job'].unique()\n",
    "print(\"amount: \", len(categories))"
   ]
  },
  {
   "cell_type": "markdown",
   "metadata": {},
   "source": [
    "Hay 246 datos faltantes. Creo que en este caso no tiene sentido imputarlos por valores parecidos (Hot deck), porque no hay datos de cuanto ganan ni nada que sea especifico de los trabajos.\n",
    "Podemos imputarlo aleatoriamente.\n",
    "\n",
    "Otra cosa: como podemos capaz juntarlos en categorías para disminuir en cols. Ej:\n",
    "- entrepreneur + self-employed \n",
    "- admin. + management\n",
    "- blue-collar\n",
    "- technician + services\n",
    "- retired + unemployed + student   \n",
    "- housemaid "
   ]
  },
  {
   "cell_type": "markdown",
   "metadata": {},
   "source": [
    "#### Missing data imputation"
   ]
  },
  {
   "cell_type": "code",
   "execution_count": null,
   "metadata": {},
   "outputs": [],
   "source": []
  },
  {
   "cell_type": "markdown",
   "metadata": {},
   "source": [
    "#### One hot encoding"
   ]
  },
  {
   "cell_type": "code",
   "execution_count": 38,
   "metadata": {},
   "outputs": [
    {
     "data": {
      "text/html": [
       "<div>\n",
       "<style scoped>\n",
       "    .dataframe tbody tr th:only-of-type {\n",
       "        vertical-align: middle;\n",
       "    }\n",
       "\n",
       "    .dataframe tbody tr th {\n",
       "        vertical-align: top;\n",
       "    }\n",
       "\n",
       "    .dataframe thead th {\n",
       "        text-align: right;\n",
       "    }\n",
       "</style>\n",
       "<table border=\"1\" class=\"dataframe\">\n",
       "  <thead>\n",
       "    <tr style=\"text-align: right;\">\n",
       "      <th></th>\n",
       "      <th>age</th>\n",
       "      <th>job</th>\n",
       "      <th>marital</th>\n",
       "      <th>education</th>\n",
       "      <th>default</th>\n",
       "      <th>housing</th>\n",
       "      <th>loan</th>\n",
       "      <th>contact</th>\n",
       "      <th>month</th>\n",
       "      <th>day_of_week</th>\n",
       "      <th>...</th>\n",
       "      <th>job_entrepreneur</th>\n",
       "      <th>job_housemaid</th>\n",
       "      <th>job_management</th>\n",
       "      <th>job_retired</th>\n",
       "      <th>job_self-employed</th>\n",
       "      <th>job_services</th>\n",
       "      <th>job_student</th>\n",
       "      <th>job_technician</th>\n",
       "      <th>job_unemployed</th>\n",
       "      <th>job_unknown</th>\n",
       "    </tr>\n",
       "  </thead>\n",
       "  <tbody>\n",
       "    <tr>\n",
       "      <th>0</th>\n",
       "      <td>31</td>\n",
       "      <td>admin.</td>\n",
       "      <td>single</td>\n",
       "      <td>university.degree</td>\n",
       "      <td>no</td>\n",
       "      <td>no</td>\n",
       "      <td>no</td>\n",
       "      <td>cellular</td>\n",
       "      <td>jul</td>\n",
       "      <td>tue</td>\n",
       "      <td>...</td>\n",
       "      <td>0</td>\n",
       "      <td>0</td>\n",
       "      <td>0</td>\n",
       "      <td>0</td>\n",
       "      <td>0</td>\n",
       "      <td>0</td>\n",
       "      <td>0</td>\n",
       "      <td>0</td>\n",
       "      <td>0</td>\n",
       "      <td>0</td>\n",
       "    </tr>\n",
       "    <tr>\n",
       "      <th>1</th>\n",
       "      <td>39</td>\n",
       "      <td>blue-collar</td>\n",
       "      <td>single</td>\n",
       "      <td>basic.4y</td>\n",
       "      <td>unknown</td>\n",
       "      <td>unknown</td>\n",
       "      <td>unknown</td>\n",
       "      <td>telephone</td>\n",
       "      <td>may</td>\n",
       "      <td>wed</td>\n",
       "      <td>...</td>\n",
       "      <td>0</td>\n",
       "      <td>0</td>\n",
       "      <td>0</td>\n",
       "      <td>0</td>\n",
       "      <td>0</td>\n",
       "      <td>0</td>\n",
       "      <td>0</td>\n",
       "      <td>0</td>\n",
       "      <td>0</td>\n",
       "      <td>0</td>\n",
       "    </tr>\n",
       "    <tr>\n",
       "      <th>2</th>\n",
       "      <td>70</td>\n",
       "      <td>retired</td>\n",
       "      <td>married</td>\n",
       "      <td>basic.4y</td>\n",
       "      <td>no</td>\n",
       "      <td>yes</td>\n",
       "      <td>no</td>\n",
       "      <td>cellular</td>\n",
       "      <td>oct</td>\n",
       "      <td>mon</td>\n",
       "      <td>...</td>\n",
       "      <td>0</td>\n",
       "      <td>0</td>\n",
       "      <td>0</td>\n",
       "      <td>1</td>\n",
       "      <td>0</td>\n",
       "      <td>0</td>\n",
       "      <td>0</td>\n",
       "      <td>0</td>\n",
       "      <td>0</td>\n",
       "      <td>0</td>\n",
       "    </tr>\n",
       "    <tr>\n",
       "      <th>3</th>\n",
       "      <td>37</td>\n",
       "      <td>admin.</td>\n",
       "      <td>single</td>\n",
       "      <td>university.degree</td>\n",
       "      <td>no</td>\n",
       "      <td>no</td>\n",
       "      <td>no</td>\n",
       "      <td>cellular</td>\n",
       "      <td>may</td>\n",
       "      <td>wed</td>\n",
       "      <td>...</td>\n",
       "      <td>0</td>\n",
       "      <td>0</td>\n",
       "      <td>0</td>\n",
       "      <td>0</td>\n",
       "      <td>0</td>\n",
       "      <td>0</td>\n",
       "      <td>0</td>\n",
       "      <td>0</td>\n",
       "      <td>0</td>\n",
       "      <td>0</td>\n",
       "    </tr>\n",
       "    <tr>\n",
       "      <th>4</th>\n",
       "      <td>48</td>\n",
       "      <td>admin.</td>\n",
       "      <td>married</td>\n",
       "      <td>high.school</td>\n",
       "      <td>no</td>\n",
       "      <td>no</td>\n",
       "      <td>no</td>\n",
       "      <td>telephone</td>\n",
       "      <td>nov</td>\n",
       "      <td>tue</td>\n",
       "      <td>...</td>\n",
       "      <td>0</td>\n",
       "      <td>0</td>\n",
       "      <td>0</td>\n",
       "      <td>0</td>\n",
       "      <td>0</td>\n",
       "      <td>0</td>\n",
       "      <td>0</td>\n",
       "      <td>0</td>\n",
       "      <td>0</td>\n",
       "      <td>0</td>\n",
       "    </tr>\n",
       "  </tbody>\n",
       "</table>\n",
       "<p>5 rows × 33 columns</p>\n",
       "</div>"
      ],
      "text/plain": [
       "   age          job  marital          education  default  housing     loan  \\\n",
       "0   31       admin.   single  university.degree       no       no       no   \n",
       "1   39  blue-collar   single           basic.4y  unknown  unknown  unknown   \n",
       "2   70      retired  married           basic.4y       no      yes       no   \n",
       "3   37       admin.   single  university.degree       no       no       no   \n",
       "4   48       admin.  married        high.school       no       no       no   \n",
       "\n",
       "     contact month day_of_week  ...  job_entrepreneur  job_housemaid  \\\n",
       "0   cellular   jul         tue  ...                 0              0   \n",
       "1  telephone   may         wed  ...                 0              0   \n",
       "2   cellular   oct         mon  ...                 0              0   \n",
       "3   cellular   may         wed  ...                 0              0   \n",
       "4  telephone   nov         tue  ...                 0              0   \n",
       "\n",
       "   job_management  job_retired job_self-employed  job_services  job_student  \\\n",
       "0               0            0                 0             0            0   \n",
       "1               0            0                 0             0            0   \n",
       "2               0            1                 0             0            0   \n",
       "3               0            0                 0             0            0   \n",
       "4               0            0                 0             0            0   \n",
       "\n",
       "   job_technician  job_unemployed  job_unknown  \n",
       "0               0               0            0  \n",
       "1               0               0            0  \n",
       "2               0               0            0  \n",
       "3               0               0            0  \n",
       "4               0               0            0  \n",
       "\n",
       "[5 rows x 33 columns]"
      ]
     },
     "execution_count": 38,
     "metadata": {},
     "output_type": "execute_result"
    }
   ],
   "source": [
    "clean_data = pd.concat([clean_data, pd.get_dummies(data['job'], prefix='job', drop_first = False)], axis=1)\n",
    "clean_data.drop(columns='job')\n",
    "clean_data.head()"
   ]
  },
  {
   "cell_type": "markdown",
   "metadata": {},
   "source": [
    "## Housing"
   ]
  },
  {
   "cell_type": "markdown",
   "metadata": {},
   "source": [
    "This data is a categorical and nominal kind of data, there are 3 possible values: 'yes', 'no' and 'unknown'. <br>\n",
    "The feature engineering approach is to generate a label encoding scheme for mapping each category to a numeric value by leveraging scikit-learn.<br>\n",
    "Reference: https://towardsdatascience.com/understanding-feature-engineering-part-2-categorical-data-f54324193e63"
   ]
  },
  {
   "cell_type": "markdown",
   "metadata": {},
   "source": [
    "#### Outliers"
   ]
  },
  {
   "cell_type": "code",
   "execution_count": 98,
   "metadata": {},
   "outputs": [
    {
     "data": {
      "text/plain": [
       "yes        17292\n",
       "no         14869\n",
       "unknown      789\n",
       "Name: housing, dtype: int64"
      ]
     },
     "execution_count": 98,
     "metadata": {},
     "output_type": "execute_result"
    }
   ],
   "source": [
    "count = data['housing'].value_counts()\n",
    "count"
   ]
  },
  {
   "cell_type": "markdown",
   "metadata": {},
   "source": [
    "There are only 3 possible values and their distribution is withing normal ranges, therefore is not possible to have outliers"
   ]
  },
  {
   "cell_type": "markdown",
   "metadata": {},
   "source": [
    "#### Housing debt distribution"
   ]
  },
  {
   "cell_type": "code",
   "execution_count": 136,
   "metadata": {
    "collapsed": true
   },
   "outputs": [
    {
     "data": {
      "image/png": "[encoded data removed]",
      "text/plain": [
       "<Figure size 1080x720 with 1 Axes>"
      ]
     },
     "metadata": {},
     "output_type": "display_data"
    }
   ],
   "source": [
    "housing = [count['yes'], count['no'], count['unknown']]\n",
    "explode = (0.05, 0.05, 0.05) \n",
    "colors = ( \"#003f5c\", \"#bc5090\", \"#ffa600\") \n",
    "wp = { 'linewidth' : 1, 'edgecolor' : \"black\" } \n",
    "  \n",
    "fig, ax = plt.subplots(figsize =(15, 10)) \n",
    "wedges, autotexts, texts = ax.pie(housing, explode = explode, labels = ['yes', 'no', 'unknown'], \n",
    "                           shadow = True, colors = colors, startangle = 90,\n",
    "                           wedgeprops = wp, autopct='%.2f', \n",
    "                           textprops = dict(color =\"white\", weight='bold', size = 15))\n",
    "  \n",
    "ax.legend(wedges, housing, \n",
    "          title =\"Has housing debt?\", \n",
    "          loc =\"center left\", \n",
    "          bbox_to_anchor =(1, 0, 1.5, 1)) \n",
    "  \n",
    "plt.setp(autotexts, color='black') \n",
    "ax.set_title(\"Housing distribution\", fontsize=25, weight='bold') \n",
    "  \n",
    "# show plot \n",
    "plt.show() "
   ]
  },
  {
   "cell_type": "markdown",
   "metadata": {},
   "source": [
    "#### Feature engineering"
   ]
  },
  {
   "cell_type": "code",
   "execution_count": 140,
   "metadata": {},
   "outputs": [
    {
     "data": {
      "text/plain": [
       "{0: 'no', 1: 'unknown', 2: 'yes'}"
      ]
     },
     "execution_count": 140,
     "metadata": {},
     "output_type": "execute_result"
    }
   ],
   "source": [
    "from sklearn.preprocessing import LabelEncoder\n",
    "\n",
    "\n",
    "gle = LabelEncoder()\n",
    "labels = gle.fit_transform(data['housing'])\n",
    "mappings = {index: label for index, label in \n",
    "                  enumerate(gle.classes_)}\n",
    "genre_mappings"
   ]
  },
  {
   "cell_type": "code",
   "execution_count": 147,
   "metadata": {},
   "outputs": [
    {
     "data": {
      "text/html": [
       "<div>\n",
       "<style scoped>\n",
       "    .dataframe tbody tr th:only-of-type {\n",
       "        vertical-align: middle;\n",
       "    }\n",
       "\n",
       "    .dataframe tbody tr th {\n",
       "        vertical-align: top;\n",
       "    }\n",
       "\n",
       "    .dataframe thead th {\n",
       "        text-align: right;\n",
       "    }\n",
       "</style>\n",
       "<table border=\"1\" class=\"dataframe\">\n",
       "  <thead>\n",
       "    <tr style=\"text-align: right;\">\n",
       "      <th></th>\n",
       "      <th>age</th>\n",
       "      <th>job</th>\n",
       "      <th>marital</th>\n",
       "      <th>education</th>\n",
       "      <th>default</th>\n",
       "      <th>housing</th>\n",
       "      <th>loan</th>\n",
       "      <th>contact</th>\n",
       "      <th>month</th>\n",
       "      <th>day_of_week</th>\n",
       "      <th>...</th>\n",
       "      <th>pdays</th>\n",
       "      <th>previous</th>\n",
       "      <th>poutcome</th>\n",
       "      <th>emp.var.rate</th>\n",
       "      <th>cons.price.idx</th>\n",
       "      <th>cons.conf.idx</th>\n",
       "      <th>euribor3m</th>\n",
       "      <th>nr.employed</th>\n",
       "      <th>y</th>\n",
       "      <th>housing_labels</th>\n",
       "    </tr>\n",
       "  </thead>\n",
       "  <tbody>\n",
       "    <tr>\n",
       "      <th>0</th>\n",
       "      <td>31</td>\n",
       "      <td>admin.</td>\n",
       "      <td>single</td>\n",
       "      <td>university.degree</td>\n",
       "      <td>no</td>\n",
       "      <td>0</td>\n",
       "      <td>no</td>\n",
       "      <td>cellular</td>\n",
       "      <td>jul</td>\n",
       "      <td>tue</td>\n",
       "      <td>...</td>\n",
       "      <td>999</td>\n",
       "      <td>0</td>\n",
       "      <td>nonexistent</td>\n",
       "      <td>1.4</td>\n",
       "      <td>93.918</td>\n",
       "      <td>-42.7</td>\n",
       "      <td>4.961</td>\n",
       "      <td>5228.1</td>\n",
       "      <td>no</td>\n",
       "      <td>0</td>\n",
       "    </tr>\n",
       "    <tr>\n",
       "      <th>1</th>\n",
       "      <td>39</td>\n",
       "      <td>blue-collar</td>\n",
       "      <td>single</td>\n",
       "      <td>basic.4y</td>\n",
       "      <td>unknown</td>\n",
       "      <td>1</td>\n",
       "      <td>unknown</td>\n",
       "      <td>telephone</td>\n",
       "      <td>may</td>\n",
       "      <td>wed</td>\n",
       "      <td>...</td>\n",
       "      <td>999</td>\n",
       "      <td>0</td>\n",
       "      <td>nonexistent</td>\n",
       "      <td>1.1</td>\n",
       "      <td>93.994</td>\n",
       "      <td>-36.4</td>\n",
       "      <td>4.857</td>\n",
       "      <td>5191.0</td>\n",
       "      <td>no</td>\n",
       "      <td>1</td>\n",
       "    </tr>\n",
       "    <tr>\n",
       "      <th>2</th>\n",
       "      <td>70</td>\n",
       "      <td>retired</td>\n",
       "      <td>married</td>\n",
       "      <td>basic.4y</td>\n",
       "      <td>no</td>\n",
       "      <td>2</td>\n",
       "      <td>no</td>\n",
       "      <td>cellular</td>\n",
       "      <td>oct</td>\n",
       "      <td>mon</td>\n",
       "      <td>...</td>\n",
       "      <td>999</td>\n",
       "      <td>0</td>\n",
       "      <td>nonexistent</td>\n",
       "      <td>-3.4</td>\n",
       "      <td>92.431</td>\n",
       "      <td>-26.9</td>\n",
       "      <td>0.739</td>\n",
       "      <td>5017.5</td>\n",
       "      <td>yes</td>\n",
       "      <td>2</td>\n",
       "    </tr>\n",
       "    <tr>\n",
       "      <th>3</th>\n",
       "      <td>37</td>\n",
       "      <td>admin.</td>\n",
       "      <td>single</td>\n",
       "      <td>university.degree</td>\n",
       "      <td>no</td>\n",
       "      <td>0</td>\n",
       "      <td>no</td>\n",
       "      <td>cellular</td>\n",
       "      <td>may</td>\n",
       "      <td>wed</td>\n",
       "      <td>...</td>\n",
       "      <td>999</td>\n",
       "      <td>0</td>\n",
       "      <td>nonexistent</td>\n",
       "      <td>-1.8</td>\n",
       "      <td>92.893</td>\n",
       "      <td>-46.2</td>\n",
       "      <td>1.334</td>\n",
       "      <td>5099.1</td>\n",
       "      <td>no</td>\n",
       "      <td>0</td>\n",
       "    </tr>\n",
       "    <tr>\n",
       "      <th>4</th>\n",
       "      <td>48</td>\n",
       "      <td>admin.</td>\n",
       "      <td>married</td>\n",
       "      <td>high.school</td>\n",
       "      <td>no</td>\n",
       "      <td>0</td>\n",
       "      <td>no</td>\n",
       "      <td>telephone</td>\n",
       "      <td>nov</td>\n",
       "      <td>tue</td>\n",
       "      <td>...</td>\n",
       "      <td>999</td>\n",
       "      <td>2</td>\n",
       "      <td>failure</td>\n",
       "      <td>-1.1</td>\n",
       "      <td>94.767</td>\n",
       "      <td>-50.8</td>\n",
       "      <td>1.049</td>\n",
       "      <td>4963.6</td>\n",
       "      <td>no</td>\n",
       "      <td>0</td>\n",
       "    </tr>\n",
       "    <tr>\n",
       "      <th>5</th>\n",
       "      <td>46</td>\n",
       "      <td>services</td>\n",
       "      <td>married</td>\n",
       "      <td>high.school</td>\n",
       "      <td>unknown</td>\n",
       "      <td>0</td>\n",
       "      <td>yes</td>\n",
       "      <td>cellular</td>\n",
       "      <td>jul</td>\n",
       "      <td>mon</td>\n",
       "      <td>...</td>\n",
       "      <td>999</td>\n",
       "      <td>0</td>\n",
       "      <td>nonexistent</td>\n",
       "      <td>1.4</td>\n",
       "      <td>93.918</td>\n",
       "      <td>-42.7</td>\n",
       "      <td>4.960</td>\n",
       "      <td>5228.1</td>\n",
       "      <td>no</td>\n",
       "      <td>0</td>\n",
       "    </tr>\n",
       "    <tr>\n",
       "      <th>6</th>\n",
       "      <td>27</td>\n",
       "      <td>services</td>\n",
       "      <td>married</td>\n",
       "      <td>high.school</td>\n",
       "      <td>no</td>\n",
       "      <td>2</td>\n",
       "      <td>no</td>\n",
       "      <td>cellular</td>\n",
       "      <td>jul</td>\n",
       "      <td>fri</td>\n",
       "      <td>...</td>\n",
       "      <td>999</td>\n",
       "      <td>0</td>\n",
       "      <td>nonexistent</td>\n",
       "      <td>1.4</td>\n",
       "      <td>93.918</td>\n",
       "      <td>-42.7</td>\n",
       "      <td>4.957</td>\n",
       "      <td>5228.1</td>\n",
       "      <td>no</td>\n",
       "      <td>2</td>\n",
       "    </tr>\n",
       "    <tr>\n",
       "      <th>7</th>\n",
       "      <td>47</td>\n",
       "      <td>admin.</td>\n",
       "      <td>divorced</td>\n",
       "      <td>high.school</td>\n",
       "      <td>no</td>\n",
       "      <td>2</td>\n",
       "      <td>no</td>\n",
       "      <td>telephone</td>\n",
       "      <td>jun</td>\n",
       "      <td>thu</td>\n",
       "      <td>...</td>\n",
       "      <td>999</td>\n",
       "      <td>0</td>\n",
       "      <td>nonexistent</td>\n",
       "      <td>1.4</td>\n",
       "      <td>94.465</td>\n",
       "      <td>-41.8</td>\n",
       "      <td>4.961</td>\n",
       "      <td>5228.1</td>\n",
       "      <td>yes</td>\n",
       "      <td>2</td>\n",
       "    </tr>\n",
       "    <tr>\n",
       "      <th>8</th>\n",
       "      <td>25</td>\n",
       "      <td>self-employed</td>\n",
       "      <td>single</td>\n",
       "      <td>university.degree</td>\n",
       "      <td>no</td>\n",
       "      <td>2</td>\n",
       "      <td>no</td>\n",
       "      <td>cellular</td>\n",
       "      <td>jun</td>\n",
       "      <td>fri</td>\n",
       "      <td>...</td>\n",
       "      <td>999</td>\n",
       "      <td>0</td>\n",
       "      <td>nonexistent</td>\n",
       "      <td>-2.9</td>\n",
       "      <td>92.963</td>\n",
       "      <td>-40.8</td>\n",
       "      <td>1.268</td>\n",
       "      <td>5076.2</td>\n",
       "      <td>no</td>\n",
       "      <td>2</td>\n",
       "    </tr>\n",
       "    <tr>\n",
       "      <th>9</th>\n",
       "      <td>27</td>\n",
       "      <td>blue-collar</td>\n",
       "      <td>single</td>\n",
       "      <td>basic.9y</td>\n",
       "      <td>no</td>\n",
       "      <td>0</td>\n",
       "      <td>no</td>\n",
       "      <td>cellular</td>\n",
       "      <td>jul</td>\n",
       "      <td>mon</td>\n",
       "      <td>...</td>\n",
       "      <td>999</td>\n",
       "      <td>0</td>\n",
       "      <td>nonexistent</td>\n",
       "      <td>1.4</td>\n",
       "      <td>93.918</td>\n",
       "      <td>-42.7</td>\n",
       "      <td>4.960</td>\n",
       "      <td>5228.1</td>\n",
       "      <td>no</td>\n",
       "      <td>0</td>\n",
       "    </tr>\n",
       "  </tbody>\n",
       "</table>\n",
       "<p>10 rows × 22 columns</p>\n",
       "</div>"
      ],
      "text/plain": [
       "   age            job   marital          education  default  housing     loan  \\\n",
       "0   31         admin.    single  university.degree       no        0       no   \n",
       "1   39    blue-collar    single           basic.4y  unknown        1  unknown   \n",
       "2   70        retired   married           basic.4y       no        2       no   \n",
       "3   37         admin.    single  university.degree       no        0       no   \n",
       "4   48         admin.   married        high.school       no        0       no   \n",
       "5   46       services   married        high.school  unknown        0      yes   \n",
       "6   27       services   married        high.school       no        2       no   \n",
       "7   47         admin.  divorced        high.school       no        2       no   \n",
       "8   25  self-employed    single  university.degree       no        2       no   \n",
       "9   27    blue-collar    single           basic.9y       no        0       no   \n",
       "\n",
       "     contact month day_of_week  ...  pdays  previous     poutcome  \\\n",
       "0   cellular   jul         tue  ...    999         0  nonexistent   \n",
       "1  telephone   may         wed  ...    999         0  nonexistent   \n",
       "2   cellular   oct         mon  ...    999         0  nonexistent   \n",
       "3   cellular   may         wed  ...    999         0  nonexistent   \n",
       "4  telephone   nov         tue  ...    999         2      failure   \n",
       "5   cellular   jul         mon  ...    999         0  nonexistent   \n",
       "6   cellular   jul         fri  ...    999         0  nonexistent   \n",
       "7  telephone   jun         thu  ...    999         0  nonexistent   \n",
       "8   cellular   jun         fri  ...    999         0  nonexistent   \n",
       "9   cellular   jul         mon  ...    999         0  nonexistent   \n",
       "\n",
       "   emp.var.rate cons.price.idx  cons.conf.idx  euribor3m  nr.employed    y  \\\n",
       "0           1.4         93.918          -42.7      4.961       5228.1   no   \n",
       "1           1.1         93.994          -36.4      4.857       5191.0   no   \n",
       "2          -3.4         92.431          -26.9      0.739       5017.5  yes   \n",
       "3          -1.8         92.893          -46.2      1.334       5099.1   no   \n",
       "4          -1.1         94.767          -50.8      1.049       4963.6   no   \n",
       "5           1.4         93.918          -42.7      4.960       5228.1   no   \n",
       "6           1.4         93.918          -42.7      4.957       5228.1   no   \n",
       "7           1.4         94.465          -41.8      4.961       5228.1  yes   \n",
       "8          -2.9         92.963          -40.8      1.268       5076.2   no   \n",
       "9           1.4         93.918          -42.7      4.960       5228.1   no   \n",
       "\n",
       "   housing_labels  \n",
       "0               0  \n",
       "1               1  \n",
       "2               2  \n",
       "3               0  \n",
       "4               0  \n",
       "5               0  \n",
       "6               2  \n",
       "7               2  \n",
       "8               2  \n",
       "9               0  \n",
       "\n",
       "[10 rows x 22 columns]"
      ]
     },
     "execution_count": 147,
     "metadata": {},
     "output_type": "execute_result"
    }
   ],
   "source": [
    "data['housing_labels'] = labels\n",
    "data.head(10)"
   ]
  },
  {
   "cell_type": "markdown",
   "metadata": {},
   "source": [
    "#### Correlation evaluation"
   ]
  },
  {
   "cell_type": "markdown",
   "metadata": {},
   "source": [
    "# FALTA CONTRA LOS VALORES QUE NO SON NUMERICOS"
   ]
  },
  {
   "cell_type": "code",
   "execution_count": 149,
   "metadata": {},
   "outputs": [
    {
     "data": {
      "text/html": [
       "<div>\n",
       "<style scoped>\n",
       "    .dataframe tbody tr th:only-of-type {\n",
       "        vertical-align: middle;\n",
       "    }\n",
       "\n",
       "    .dataframe tbody tr th {\n",
       "        vertical-align: top;\n",
       "    }\n",
       "\n",
       "    .dataframe thead th {\n",
       "        text-align: right;\n",
       "    }\n",
       "</style>\n",
       "<table border=\"1\" class=\"dataframe\">\n",
       "  <thead>\n",
       "    <tr style=\"text-align: right;\">\n",
       "      <th></th>\n",
       "      <th>age</th>\n",
       "      <th>housing</th>\n",
       "      <th>duration</th>\n",
       "      <th>campaign</th>\n",
       "      <th>pdays</th>\n",
       "      <th>previous</th>\n",
       "      <th>emp.var.rate</th>\n",
       "      <th>cons.price.idx</th>\n",
       "      <th>cons.conf.idx</th>\n",
       "      <th>euribor3m</th>\n",
       "      <th>nr.employed</th>\n",
       "      <th>housing_labels</th>\n",
       "    </tr>\n",
       "  </thead>\n",
       "  <tbody>\n",
       "    <tr>\n",
       "      <th>age</th>\n",
       "      <td>1.000000</td>\n",
       "      <td>0.004104</td>\n",
       "      <td>0.002847</td>\n",
       "      <td>0.002819</td>\n",
       "      <td>-0.035856</td>\n",
       "      <td>0.026519</td>\n",
       "      <td>0.000112</td>\n",
       "      <td>0.002811</td>\n",
       "      <td>0.127296</td>\n",
       "      <td>0.010991</td>\n",
       "      <td>-0.017799</td>\n",
       "      <td>0.004104</td>\n",
       "    </tr>\n",
       "    <tr>\n",
       "      <th>housing</th>\n",
       "      <td>0.004104</td>\n",
       "      <td>1.000000</td>\n",
       "      <td>-0.005861</td>\n",
       "      <td>-0.013823</td>\n",
       "      <td>-0.014476</td>\n",
       "      <td>0.023787</td>\n",
       "      <td>-0.064907</td>\n",
       "      <td>-0.083415</td>\n",
       "      <td>-0.029885</td>\n",
       "      <td>-0.063399</td>\n",
       "      <td>-0.051255</td>\n",
       "      <td>1.000000</td>\n",
       "    </tr>\n",
       "    <tr>\n",
       "      <th>duration</th>\n",
       "      <td>0.002847</td>\n",
       "      <td>-0.005861</td>\n",
       "      <td>1.000000</td>\n",
       "      <td>-0.069869</td>\n",
       "      <td>-0.048326</td>\n",
       "      <td>0.025536</td>\n",
       "      <td>-0.034460</td>\n",
       "      <td>0.000501</td>\n",
       "      <td>-0.009431</td>\n",
       "      <td>-0.038950</td>\n",
       "      <td>-0.051114</td>\n",
       "      <td>-0.005861</td>\n",
       "    </tr>\n",
       "    <tr>\n",
       "      <th>campaign</th>\n",
       "      <td>0.002819</td>\n",
       "      <td>-0.013823</td>\n",
       "      <td>-0.069869</td>\n",
       "      <td>1.000000</td>\n",
       "      <td>0.051082</td>\n",
       "      <td>-0.078954</td>\n",
       "      <td>0.152342</td>\n",
       "      <td>0.130869</td>\n",
       "      <td>-0.014587</td>\n",
       "      <td>0.136691</td>\n",
       "      <td>0.145251</td>\n",
       "      <td>-0.013823</td>\n",
       "    </tr>\n",
       "    <tr>\n",
       "      <th>pdays</th>\n",
       "      <td>-0.035856</td>\n",
       "      <td>-0.014476</td>\n",
       "      <td>-0.048326</td>\n",
       "      <td>0.051082</td>\n",
       "      <td>1.000000</td>\n",
       "      <td>-0.590188</td>\n",
       "      <td>0.274937</td>\n",
       "      <td>0.083261</td>\n",
       "      <td>-0.095368</td>\n",
       "      <td>0.299377</td>\n",
       "      <td>0.374621</td>\n",
       "      <td>-0.014476</td>\n",
       "    </tr>\n",
       "    <tr>\n",
       "      <th>previous</th>\n",
       "      <td>0.026519</td>\n",
       "      <td>0.023787</td>\n",
       "      <td>0.025536</td>\n",
       "      <td>-0.078954</td>\n",
       "      <td>-0.590188</td>\n",
       "      <td>1.000000</td>\n",
       "      <td>-0.421930</td>\n",
       "      <td>-0.204187</td>\n",
       "      <td>-0.050395</td>\n",
       "      <td>-0.456738</td>\n",
       "      <td>-0.502996</td>\n",
       "      <td>0.023787</td>\n",
       "    </tr>\n",
       "    <tr>\n",
       "      <th>emp.var.rate</th>\n",
       "      <td>0.000112</td>\n",
       "      <td>-0.064907</td>\n",
       "      <td>-0.034460</td>\n",
       "      <td>0.152342</td>\n",
       "      <td>0.274937</td>\n",
       "      <td>-0.421930</td>\n",
       "      <td>1.000000</td>\n",
       "      <td>0.774406</td>\n",
       "      <td>0.198292</td>\n",
       "      <td>0.972267</td>\n",
       "      <td>0.906427</td>\n",
       "      <td>-0.064907</td>\n",
       "    </tr>\n",
       "    <tr>\n",
       "      <th>cons.price.idx</th>\n",
       "      <td>0.002811</td>\n",
       "      <td>-0.083415</td>\n",
       "      <td>0.000501</td>\n",
       "      <td>0.130869</td>\n",
       "      <td>0.083261</td>\n",
       "      <td>-0.204187</td>\n",
       "      <td>0.774406</td>\n",
       "      <td>1.000000</td>\n",
       "      <td>0.060056</td>\n",
       "      <td>0.686713</td>\n",
       "      <td>0.519438</td>\n",
       "      <td>-0.083415</td>\n",
       "    </tr>\n",
       "    <tr>\n",
       "      <th>cons.conf.idx</th>\n",
       "      <td>0.127296</td>\n",
       "      <td>-0.029885</td>\n",
       "      <td>-0.009431</td>\n",
       "      <td>-0.014587</td>\n",
       "      <td>-0.095368</td>\n",
       "      <td>-0.050395</td>\n",
       "      <td>0.198292</td>\n",
       "      <td>0.060056</td>\n",
       "      <td>1.000000</td>\n",
       "      <td>0.280013</td>\n",
       "      <td>0.102781</td>\n",
       "      <td>-0.029885</td>\n",
       "    </tr>\n",
       "    <tr>\n",
       "      <th>euribor3m</th>\n",
       "      <td>0.010991</td>\n",
       "      <td>-0.063399</td>\n",
       "      <td>-0.038950</td>\n",
       "      <td>0.136691</td>\n",
       "      <td>0.299377</td>\n",
       "      <td>-0.456738</td>\n",
       "      <td>0.972267</td>\n",
       "      <td>0.686713</td>\n",
       "      <td>0.280013</td>\n",
       "      <td>1.000000</td>\n",
       "      <td>0.944882</td>\n",
       "      <td>-0.063399</td>\n",
       "    </tr>\n",
       "    <tr>\n",
       "      <th>nr.employed</th>\n",
       "      <td>-0.017799</td>\n",
       "      <td>-0.051255</td>\n",
       "      <td>-0.051114</td>\n",
       "      <td>0.145251</td>\n",
       "      <td>0.374621</td>\n",
       "      <td>-0.502996</td>\n",
       "      <td>0.906427</td>\n",
       "      <td>0.519438</td>\n",
       "      <td>0.102781</td>\n",
       "      <td>0.944882</td>\n",
       "      <td>1.000000</td>\n",
       "      <td>-0.051255</td>\n",
       "    </tr>\n",
       "    <tr>\n",
       "      <th>housing_labels</th>\n",
       "      <td>0.004104</td>\n",
       "      <td>1.000000</td>\n",
       "      <td>-0.005861</td>\n",
       "      <td>-0.013823</td>\n",
       "      <td>-0.014476</td>\n",
       "      <td>0.023787</td>\n",
       "      <td>-0.064907</td>\n",
       "      <td>-0.083415</td>\n",
       "      <td>-0.029885</td>\n",
       "      <td>-0.063399</td>\n",
       "      <td>-0.051255</td>\n",
       "      <td>1.000000</td>\n",
       "    </tr>\n",
       "  </tbody>\n",
       "</table>\n",
       "</div>"
      ],
      "text/plain": [
       "                     age   housing  duration  campaign     pdays  previous  \\\n",
       "age             1.000000  0.004104  0.002847  0.002819 -0.035856  0.026519   \n",
       "housing         0.004104  1.000000 -0.005861 -0.013823 -0.014476  0.023787   \n",
       "duration        0.002847 -0.005861  1.000000 -0.069869 -0.048326  0.025536   \n",
       "campaign        0.002819 -0.013823 -0.069869  1.000000  0.051082 -0.078954   \n",
       "pdays          -0.035856 -0.014476 -0.048326  0.051082  1.000000 -0.590188   \n",
       "previous        0.026519  0.023787  0.025536 -0.078954 -0.590188  1.000000   \n",
       "emp.var.rate    0.000112 -0.064907 -0.034460  0.152342  0.274937 -0.421930   \n",
       "cons.price.idx  0.002811 -0.083415  0.000501  0.130869  0.083261 -0.204187   \n",
       "cons.conf.idx   0.127296 -0.029885 -0.009431 -0.014587 -0.095368 -0.050395   \n",
       "euribor3m       0.010991 -0.063399 -0.038950  0.136691  0.299377 -0.456738   \n",
       "nr.employed    -0.017799 -0.051255 -0.051114  0.145251  0.374621 -0.502996   \n",
       "housing_labels  0.004104  1.000000 -0.005861 -0.013823 -0.014476  0.023787   \n",
       "\n",
       "                emp.var.rate  cons.price.idx  cons.conf.idx  euribor3m  \\\n",
       "age                 0.000112        0.002811       0.127296   0.010991   \n",
       "housing            -0.064907       -0.083415      -0.029885  -0.063399   \n",
       "duration           -0.034460        0.000501      -0.009431  -0.038950   \n",
       "campaign            0.152342        0.130869      -0.014587   0.136691   \n",
       "pdays               0.274937        0.083261      -0.095368   0.299377   \n",
       "previous           -0.421930       -0.204187      -0.050395  -0.456738   \n",
       "emp.var.rate        1.000000        0.774406       0.198292   0.972267   \n",
       "cons.price.idx      0.774406        1.000000       0.060056   0.686713   \n",
       "cons.conf.idx       0.198292        0.060056       1.000000   0.280013   \n",
       "euribor3m           0.972267        0.686713       0.280013   1.000000   \n",
       "nr.employed         0.906427        0.519438       0.102781   0.944882   \n",
       "housing_labels     -0.064907       -0.083415      -0.029885  -0.063399   \n",
       "\n",
       "                nr.employed  housing_labels  \n",
       "age               -0.017799        0.004104  \n",
       "housing           -0.051255        1.000000  \n",
       "duration          -0.051114       -0.005861  \n",
       "campaign           0.145251       -0.013823  \n",
       "pdays              0.374621       -0.014476  \n",
       "previous          -0.502996        0.023787  \n",
       "emp.var.rate       0.906427       -0.064907  \n",
       "cons.price.idx     0.519438       -0.083415  \n",
       "cons.conf.idx      0.102781       -0.029885  \n",
       "euribor3m          0.944882       -0.063399  \n",
       "nr.employed        1.000000       -0.051255  \n",
       "housing_labels    -0.051255        1.000000  "
      ]
     },
     "execution_count": 149,
     "metadata": {},
     "output_type": "execute_result"
    }
   ],
   "source": [
    "data.corr(method ='pearson') "
   ]
  },
  {
   "cell_type": "markdown",
   "metadata": {},
   "source": [
    "The Pearson correlation index indicates that there is no correlation between Housing and the other columns"
   ]
  },
  {
   "cell_type": "markdown",
   "metadata": {},
   "source": [
    "## Loan"
   ]
  },
  {
   "cell_type": "code",
   "execution_count": null,
   "metadata": {},
   "outputs": [],
   "source": [
    "binaria, faltantes (?) - evaluar correlacion con otras columnas (trabajo, edad) "
   ]
  },
  {
   "cell_type": "code",
   "execution_count": 27,
   "metadata": {},
   "outputs": [
    {
     "name": "stdout",
     "output_type": "stream",
     "text": [
      "no         27196\n",
      "yes         4965\n",
      "unknown      789\n",
      "Name: loan, dtype: int64\n"
     ]
    }
   ],
   "source": [
    "count = data['loan'].value_counts()\n",
    "print(count)"
   ]
  },
  {
   "cell_type": "markdown",
   "metadata": {},
   "source": [
    "#### Missing data imputation"
   ]
  },
  {
   "cell_type": "code",
   "execution_count": null,
   "metadata": {},
   "outputs": [],
   "source": []
  },
  {
   "cell_type": "markdown",
   "metadata": {},
   "source": [
    "#### Encoding"
   ]
  },
  {
   "cell_type": "code",
   "execution_count": 39,
   "metadata": {},
   "outputs": [
    {
     "data": {
      "text/html": [
       "<div>\n",
       "<style scoped>\n",
       "    .dataframe tbody tr th:only-of-type {\n",
       "        vertical-align: middle;\n",
       "    }\n",
       "\n",
       "    .dataframe tbody tr th {\n",
       "        vertical-align: top;\n",
       "    }\n",
       "\n",
       "    .dataframe thead th {\n",
       "        text-align: right;\n",
       "    }\n",
       "</style>\n",
       "<table border=\"1\" class=\"dataframe\">\n",
       "  <thead>\n",
       "    <tr style=\"text-align: right;\">\n",
       "      <th></th>\n",
       "      <th>age</th>\n",
       "      <th>job</th>\n",
       "      <th>marital</th>\n",
       "      <th>education</th>\n",
       "      <th>default</th>\n",
       "      <th>housing</th>\n",
       "      <th>loan</th>\n",
       "      <th>contact</th>\n",
       "      <th>month</th>\n",
       "      <th>day_of_week</th>\n",
       "      <th>...</th>\n",
       "      <th>job_management</th>\n",
       "      <th>job_retired</th>\n",
       "      <th>job_self-employed</th>\n",
       "      <th>job_services</th>\n",
       "      <th>job_student</th>\n",
       "      <th>job_technician</th>\n",
       "      <th>job_unemployed</th>\n",
       "      <th>job_unknown</th>\n",
       "      <th>loan_unknown</th>\n",
       "      <th>loan_yes</th>\n",
       "    </tr>\n",
       "  </thead>\n",
       "  <tbody>\n",
       "    <tr>\n",
       "      <th>0</th>\n",
       "      <td>31</td>\n",
       "      <td>admin.</td>\n",
       "      <td>single</td>\n",
       "      <td>university.degree</td>\n",
       "      <td>no</td>\n",
       "      <td>no</td>\n",
       "      <td>no</td>\n",
       "      <td>cellular</td>\n",
       "      <td>jul</td>\n",
       "      <td>tue</td>\n",
       "      <td>...</td>\n",
       "      <td>0</td>\n",
       "      <td>0</td>\n",
       "      <td>0</td>\n",
       "      <td>0</td>\n",
       "      <td>0</td>\n",
       "      <td>0</td>\n",
       "      <td>0</td>\n",
       "      <td>0</td>\n",
       "      <td>0</td>\n",
       "      <td>0</td>\n",
       "    </tr>\n",
       "    <tr>\n",
       "      <th>1</th>\n",
       "      <td>39</td>\n",
       "      <td>blue-collar</td>\n",
       "      <td>single</td>\n",
       "      <td>basic.4y</td>\n",
       "      <td>unknown</td>\n",
       "      <td>unknown</td>\n",
       "      <td>unknown</td>\n",
       "      <td>telephone</td>\n",
       "      <td>may</td>\n",
       "      <td>wed</td>\n",
       "      <td>...</td>\n",
       "      <td>0</td>\n",
       "      <td>0</td>\n",
       "      <td>0</td>\n",
       "      <td>0</td>\n",
       "      <td>0</td>\n",
       "      <td>0</td>\n",
       "      <td>0</td>\n",
       "      <td>0</td>\n",
       "      <td>1</td>\n",
       "      <td>0</td>\n",
       "    </tr>\n",
       "    <tr>\n",
       "      <th>2</th>\n",
       "      <td>70</td>\n",
       "      <td>retired</td>\n",
       "      <td>married</td>\n",
       "      <td>basic.4y</td>\n",
       "      <td>no</td>\n",
       "      <td>yes</td>\n",
       "      <td>no</td>\n",
       "      <td>cellular</td>\n",
       "      <td>oct</td>\n",
       "      <td>mon</td>\n",
       "      <td>...</td>\n",
       "      <td>0</td>\n",
       "      <td>1</td>\n",
       "      <td>0</td>\n",
       "      <td>0</td>\n",
       "      <td>0</td>\n",
       "      <td>0</td>\n",
       "      <td>0</td>\n",
       "      <td>0</td>\n",
       "      <td>0</td>\n",
       "      <td>0</td>\n",
       "    </tr>\n",
       "    <tr>\n",
       "      <th>3</th>\n",
       "      <td>37</td>\n",
       "      <td>admin.</td>\n",
       "      <td>single</td>\n",
       "      <td>university.degree</td>\n",
       "      <td>no</td>\n",
       "      <td>no</td>\n",
       "      <td>no</td>\n",
       "      <td>cellular</td>\n",
       "      <td>may</td>\n",
       "      <td>wed</td>\n",
       "      <td>...</td>\n",
       "      <td>0</td>\n",
       "      <td>0</td>\n",
       "      <td>0</td>\n",
       "      <td>0</td>\n",
       "      <td>0</td>\n",
       "      <td>0</td>\n",
       "      <td>0</td>\n",
       "      <td>0</td>\n",
       "      <td>0</td>\n",
       "      <td>0</td>\n",
       "    </tr>\n",
       "    <tr>\n",
       "      <th>4</th>\n",
       "      <td>48</td>\n",
       "      <td>admin.</td>\n",
       "      <td>married</td>\n",
       "      <td>high.school</td>\n",
       "      <td>no</td>\n",
       "      <td>no</td>\n",
       "      <td>no</td>\n",
       "      <td>telephone</td>\n",
       "      <td>nov</td>\n",
       "      <td>tue</td>\n",
       "      <td>...</td>\n",
       "      <td>0</td>\n",
       "      <td>0</td>\n",
       "      <td>0</td>\n",
       "      <td>0</td>\n",
       "      <td>0</td>\n",
       "      <td>0</td>\n",
       "      <td>0</td>\n",
       "      <td>0</td>\n",
       "      <td>0</td>\n",
       "      <td>0</td>\n",
       "    </tr>\n",
       "  </tbody>\n",
       "</table>\n",
       "<p>5 rows × 35 columns</p>\n",
       "</div>"
      ],
      "text/plain": [
       "   age          job  marital          education  default  housing     loan  \\\n",
       "0   31       admin.   single  university.degree       no       no       no   \n",
       "1   39  blue-collar   single           basic.4y  unknown  unknown  unknown   \n",
       "2   70      retired  married           basic.4y       no      yes       no   \n",
       "3   37       admin.   single  university.degree       no       no       no   \n",
       "4   48       admin.  married        high.school       no       no       no   \n",
       "\n",
       "     contact month day_of_week  ...  job_management  job_retired  \\\n",
       "0   cellular   jul         tue  ...               0            0   \n",
       "1  telephone   may         wed  ...               0            0   \n",
       "2   cellular   oct         mon  ...               0            1   \n",
       "3   cellular   may         wed  ...               0            0   \n",
       "4  telephone   nov         tue  ...               0            0   \n",
       "\n",
       "   job_self-employed  job_services job_student  job_technician  \\\n",
       "0                  0             0           0               0   \n",
       "1                  0             0           0               0   \n",
       "2                  0             0           0               0   \n",
       "3                  0             0           0               0   \n",
       "4                  0             0           0               0   \n",
       "\n",
       "   job_unemployed  job_unknown  loan_unknown  loan_yes  \n",
       "0               0            0             0         0  \n",
       "1               0            0             1         0  \n",
       "2               0            0             0         0  \n",
       "3               0            0             0         0  \n",
       "4               0            0             0         0  \n",
       "\n",
       "[5 rows x 35 columns]"
      ]
     },
     "execution_count": 39,
     "metadata": {},
     "output_type": "execute_result"
    }
   ],
   "source": [
    "clean_data = pd.concat([clean_data, pd.get_dummies(data['loan'], prefix='loan', drop_first = True)], axis=1)\n",
    "clean_data.drop(columns='loan')\n",
    "clean_data.head()"
   ]
  },
  {
   "cell_type": "markdown",
   "metadata": {},
   "source": [
    "## Duration"
   ]
  },
  {
   "cell_type": "markdown",
   "metadata": {},
   "source": [
    "This indicates the duration of the last call, in seconds. It is a numerical tyoe of data, with wide ranges."
   ]
  },
  {
   "cell_type": "markdown",
   "metadata": {},
   "source": [
    "#### Distribution"
   ]
  },
  {
   "cell_type": "code",
   "execution_count": 188,
   "metadata": {},
   "outputs": [
    {
     "data": {
      "image/png": "[encoded data removed]",
      "text/plain": [
       "<Figure size 1080x576 with 1 Axes>"
      ]
     },
     "metadata": {},
     "output_type": "display_data"
    }
   ],
   "source": [
    "durations = data['duration']\n",
    "range = np.arange(0, 5000, 100)\n",
    "plt.figure(figsize=(15,8))\n",
    "sns.set()\n",
    "plt.hist(durations, bins=100)\n",
    "plt.title(label=\"Call duration distribution\", fontsize=25)\n",
    "plt.xticks(range, rotation=90)\n",
    "plt.xlabel('Durations', fontsize=15)\n",
    "plt.ylabel('Amount of calls', fontsize=15)\n",
    "plt.show()"
   ]
  },
  {
   "cell_type": "markdown",
   "metadata": {},
   "source": [
    "It seems that we have outliers for the calls that last more than 1600 seconds."
   ]
  },
  {
   "cell_type": "markdown",
   "metadata": {},
   "source": [
    "#### Outliers analysis"
   ]
  },
  {
   "cell_type": "code",
   "execution_count": 193,
   "metadata": {
    "scrolled": true
   },
   "outputs": [
    {
     "data": {
      "text/plain": [
       "count    32950.000000\n",
       "mean       257.240728\n",
       "std        257.171015\n",
       "min          0.000000\n",
       "25%        103.000000\n",
       "50%        180.000000\n",
       "75%        319.000000\n",
       "max       4918.000000\n",
       "Name: duration, dtype: float64"
      ]
     },
     "execution_count": 193,
     "metadata": {},
     "output_type": "execute_result"
    }
   ],
   "source": [
    "data['duration'].describe()"
   ]
  },
  {
   "cell_type": "code",
   "execution_count": 201,
   "metadata": {},
   "outputs": [
    {
     "data": {
      "image/png": "[encoded data removed]",
      "text/plain": [
       "<Figure size 1080x576 with 1 Axes>"
      ]
     },
     "metadata": {},
     "output_type": "display_data"
    }
   ],
   "source": [
    "plt.figure(figsize=(15,8))\n",
    "plt.title('Box plot - outlier detection', fontsize=15)\n",
    "plt.boxplot(data['duration'])\n",
    "plt.show()"
   ]
  },
  {
   "cell_type": "markdown",
   "metadata": {},
   "source": [
    "Using the describe function and the box plot is clear that the higher numbers are likely to be outliers. The Pearson correlation doesn't indicate a relation between the call duration and the other measured values, we can assume that this outliers won't bias out data because they seem to be caused completely at random."
   ]
  },
  {
   "cell_type": "markdown",
   "metadata": {},
   "source": [
    "#### Feature engineering"
   ]
  },
  {
   "cell_type": "markdown",
   "metadata": {},
   "source": [
    "The selected approach will be to do data binning for two main reasons:\n",
    "- Using the individual call durations has no utility for the analysis\n",
    "- We can treat the outliers and fit them into the top or lower bins\n",
    "<br>\n",
    "<br>\n",
    "We will use equal width binning, it tries to divide up the underlying data into equal sized bins.\n",
    "The qcut function from pandas will be used, it defines the bins using percentiles based on the distribution of the data, not the actual numeric edges of the bins.<br>\n",
    "Reference: https://pbpython.com/pandas-qcut-cut.html, https://pandas.pydata.org/pandas-docs/stable/reference/api/pandas.qcut.html"
   ]
  },
  {
   "cell_type": "code",
   "execution_count": 225,
   "metadata": {},
   "outputs": [
    {
     "data": {
      "text/plain": [
       "(88.0, 117.0]      3390\n",
       "(-0.001, 59.0]     3366\n",
       "(146.0, 180.0]     3358\n",
       "(279.0, 367.0]     3304\n",
       "(546.0, 4918.0]    3292\n",
       "(367.0, 546.0]     3286\n",
       "(221.0, 279.0]     3282\n",
       "(180.0, 221.0]     3236\n",
       "(59.0, 88.0]       3226\n",
       "(117.0, 146.0]     3210\n",
       "Name: duration, dtype: int64"
      ]
     },
     "execution_count": 225,
     "metadata": {},
     "output_type": "execute_result"
    }
   ],
   "source": [
    "bins = pd.qcut(data['duration'], q=10)\n",
    "bins.value_counts()"
   ]
  },
  {
   "cell_type": "markdown",
   "metadata": {},
   "source": [
    "## Campaign"
   ]
  },
  {
   "cell_type": "code",
   "execution_count": null,
   "metadata": {},
   "outputs": [],
   "source": [
    "número de contactos realizados durante esta campaña y para este cliente -> solo evaluar si hay outliers"
   ]
  },
  {
   "cell_type": "code",
   "execution_count": 45,
   "metadata": {},
   "outputs": [
    {
     "data": {
      "text/plain": [
       "count    32950.000000\n",
       "mean         2.571411\n",
       "std          2.784660\n",
       "min          1.000000\n",
       "25%          1.000000\n",
       "50%          2.000000\n",
       "75%          3.000000\n",
       "max         56.000000\n",
       "Name: campaign, dtype: float64"
      ]
     },
     "execution_count": 45,
     "metadata": {},
     "output_type": "execute_result"
    }
   ],
   "source": [
    "data['campaign'].describe()"
   ]
  },
  {
   "cell_type": "code",
   "execution_count": 53,
   "metadata": {},
   "outputs": [
    {
     "data": {
      "image/png": "[encoded data removed]",
      "text/plain": [
       "<Figure size 1080x576 with 1 Axes>"
      ]
     },
     "metadata": {},
     "output_type": "display_data"
    }
   ],
   "source": [
    "amount_campaign = data['campaign']\n",
    "range = np.arange(1, 60, 1)\n",
    "plt.figure(figsize=(15,8))\n",
    "sns.set()\n",
    "plt.hist(amount_campaign, bins=60)\n",
    "plt.title(label=\"Amount of contacts during campaign distribution\", fontsize=25)\n",
    "plt.xticks(range, rotation=90)\n",
    "plt.xlabel('Amount of contacts', fontsize=15)\n",
    "plt.ylabel('Clients', fontsize=15)\n",
    "plt.show()"
   ]
  },
  {
   "cell_type": "markdown",
   "metadata": {},
   "source": [
    "Due to this distribution we are going to use a top-coding to normalize the data. \n",
    "\n",
    "#### Encoding"
   ]
  },
  {
   "cell_type": "code",
   "execution_count": 56,
   "metadata": {},
   "outputs": [],
   "source": [
    "top_code = data['campaign'].quantile(0.75)"
   ]
  },
  {
   "cell_type": "code",
   "execution_count": 57,
   "metadata": {},
   "outputs": [],
   "source": [
    "def campaign_top_coding(value):\n",
    "    if(value > top_code + 1):\n",
    "        return top_code + 1\n",
    "    else:\n",
    "        return value"
   ]
  },
  {
   "cell_type": "code",
   "execution_count": 62,
   "metadata": {},
   "outputs": [
    {
     "data": {
      "text/plain": [
       "1.0    14200\n",
       "2.0     8391\n",
       "4.0     6126\n",
       "3.0     4233\n",
       "Name: campaign, dtype: int64"
      ]
     },
     "execution_count": 62,
     "metadata": {},
     "output_type": "execute_result"
    }
   ],
   "source": [
    "clean_data['campaign'] = data['campaign'].apply(campaign_top_coding)\n",
    "clean_data['campaign'].value_counts()"
   ]
  },
  {
   "cell_type": "code",
   "execution_count": null,
   "metadata": {},
   "outputs": [],
   "source": []
  }
 ],
 "metadata": {
  "kernelspec": {
   "display_name": "Python 3",
   "language": "python",
   "name": "python3"
  },
  "language_info": {
   "codemirror_mode": {
    "name": "ipython",
    "version": 3
   },
   "file_extension": ".py",
   "mimetype": "text/x-python",
   "name": "python",
   "nbconvert_exporter": "python",
   "pygments_lexer": "ipython3",
   "version": "3.8.3"
  }
 },
 "nbformat": 4,
 "nbformat_minor": 4
}
